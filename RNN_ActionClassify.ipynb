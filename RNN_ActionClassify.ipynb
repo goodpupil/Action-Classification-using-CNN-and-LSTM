{
 "cells": [
  {
   "cell_type": "markdown",
   "metadata": {},
   "source": [
    "# Sequence Classification using Recurrent Neural Networks(RNN)\n",
    "In this homework, you will learn how to train a recurrent neural network for human action classification. RNN is designed handle sequential data. The network can incorporate both past history and current input. [This](http://colah.github.io/posts/2015-08-Understanding-LSTMs/) is a very good tutorial. You should read it before you start."
   ]
  },
  {
   "cell_type": "markdown",
   "metadata": {},
   "source": [
    "## Setup\n",
    "**Please make sure you have h5py and torchnet installed**\n",
    "> pip install h5py\n",
    "\n",
    "> pip install git+https://github.com/pytorch/tnt.git@master\n",
    "\n",
    "## Known Windows Issues:\n",
    "### In case you're getting an error [Read more](https://discuss.pytorch.org/t/brokenpipeerror-errno-32-broken-pipe-when-i-run-cifar10-tutorial-py/6224): \n",
    "```python\n",
    "BrokenPipeError: [Errno 32] Broken pipe\n",
    "```\n",
    "\n",
    ">In the dataloader block change Line 39, 42, and 45 num_workers=0 \n",
    "\n",
    "### In case of error (This should be a CUDA error [Read more](https://discuss.pytorch.org/t/asserterror-in-lstm-layer-on-gpu/8698)):\n",
    "\n",
    "```python\n",
    "--> 186             assert param_from.type() == param_to.type()\n",
    "AssertionError: \n",
    "```\n",
    "\n",
    "**Replace following lines:**\n",
    "```python\n",
    "def run_epoch(data_loader, model, criterion, epoch, is_training, optimizer=None):\n",
    "    ...\n",
    "    input_sequence_var = Variable(sequence).type(FloatTensor)\n",
    "    input_label_var = Variable(label).type(LongTensor)\n",
    "    ...\n",
    "```\n",
    "```python\n",
    "def predict_on_test(model, data_loader):\n",
    "    ...\n",
    "        input_sequence_var = Variable(sequence).type(FloatTensor)\n",
    "    ...\n",
    "```\n",
    "** With: **\n",
    "```python\n",
    "def run_epoch(data_loader, model, criterion, epoch, is_training, optimizer=None):\n",
    "    ...\n",
    "    input_sequence_var = Variable(sequence)\n",
    "    input_label_var = Variable(label)\n",
    "    ...\n",
    "```\n",
    "```python\n",
    "def predict_on_test(model, data_loader):\n",
    "    ...\n",
    "        input_sequence_var = Variable(sequence)\n",
    "    ...\n",
    "```"
   ]
  },
  {
   "cell_type": "code",
   "execution_count": 1,
   "metadata": {},
   "outputs": [
    {
     "name": "stderr",
     "output_type": "stream",
     "text": [
      "/usr/local/lib/python2.7/dist-packages/h5py/__init__.py:36: FutureWarning: Conversion of the second argument of issubdtype from `float` to `np.floating` is deprecated. In future, it will be treated as `np.float64 == np.dtype(float).type`.\n",
      "  from ._conv import register_converters as _register_converters\n"
     ]
    },
    {
     "name": "stdout",
     "output_type": "stream",
     "text": [
      "use cuda: False\n"
     ]
    },
    {
     "name": "stderr",
     "output_type": "stream",
     "text": [
      "Using TensorFlow backend.\n"
     ]
    }
   ],
   "source": [
    "import os\n",
    "import numpy as np\n",
    "import h5py\n",
    "\n",
    "import torch\n",
    "import torch.nn as nn\n",
    "from torch.autograd import Variable\n",
    "import torch.utils.data as DD\n",
    "import torchnet as tnt\n",
    "\n",
    "\n",
    "use_cuda = torch.cuda.is_available()\n",
    "print('use cuda: %s'%(use_cuda))\n",
    "FloatTensor = torch.cuda.FloatTensor if use_cuda else torch.FloatTensor\n",
    "LongTensor = torch.cuda.LongTensor if use_cuda else torch.LongTensor\n",
    "ByteTensor = torch.cuda.ByteTensor if use_cuda else torch.ByteTensor\n",
    "from keras.utils.np_utils import to_categorical\n",
    "import torchvision.models.inception as inception"
   ]
  },
  {
   "cell_type": "markdown",
   "metadata": {},
   "source": [
    "## Dataset\n",
    "The data we are using is skeleton data, which indicates the 3D locations of body joints. In total, there are 25 body joints. It is collected by Kinect v2. To make it easier, each sequence have same number of frames. You need to classify 10 different actions. There are 4000 training sequences, 800 validation sequences, and 1000 test sequences. Each sequence has 15 frames, each frame is a 75-dimension vector (3*25).\n",
    "\n",
    "For your convenience, we provide the dataloader for you.\n"
   ]
  },
  {
   "cell_type": "code",
   "execution_count": 2,
   "metadata": {},
   "outputs": [],
   "source": [
    "class Dataset(DD.Dataset):\n",
    "    # subset can be: 'train', 'val', 'test'\n",
    "    def __init__(self, data_path, subset='train'):\n",
    "        super(Dataset, self).__init__()\n",
    "        self.data_path = os.path.join(data_path, '%s_data.h5'%subset)\n",
    "        self.subset = subset\n",
    "\n",
    "        with h5py.File(self.data_path) as f:\n",
    "            self.data = np.array(f['data'])\n",
    "\n",
    "        if subset != 'test':\n",
    "            self.label_path = os.path.join(data_path, '%s_label.h5'%subset)\n",
    "            with h5py.File(self.label_path) as f:\n",
    "                self.label = np.array(f['label'])\n",
    "\n",
    "        self.num_sequences = self.data.shape[0]\n",
    "        self.seq_len = self.data.shape[1]\n",
    "        self.n_dim = self.data.shape[2]\n",
    "\n",
    "    def __getitem__(self, index):\n",
    "        seq = self.data[index]\n",
    "        if self.subset != 'test':\n",
    "            label = int(self.label[index])\n",
    "            sample = {'seq': seq, 'label': label}\n",
    "        else:\n",
    "            sample = {'seq': seq}\n",
    "        return sample\n",
    "\n",
    "    def __len__(self):\n",
    "        return self.num_sequences\n",
    "\n",
    "trSet = Dataset('./data', subset='train')\n",
    "valSet = Dataset('./data', subset='val')\n",
    "tstSet = Dataset('./data', subset='test')\n",
    "\n",
    "batch_size = 100\n",
    "# trLD = DD.DataLoader(DD.ConcatDataset([trSet, valSet]), batch_size=batch_size,\n",
    "#        num_workers=2, pin_memory=False)\n",
    "trLD = DD.DataLoader(trSet, batch_size=batch_size,\n",
    "       sampler=DD.sampler.SequentialSampler(trSet),\n",
    "       num_workers=2, pin_memory=False)\n",
    "valLD = DD.DataLoader(valSet, batch_size=batch_size,\n",
    "       sampler=DD.sampler.SequentialSampler(valSet),\n",
    "       num_workers=1, pin_memory=False)\n",
    "tstLD = DD.DataLoader(tstSet, batch_size=batch_size,\n",
    "       sampler=DD.sampler.SequentialSampler(tstSet),\n",
    "       num_workers=1, pin_memory=False)\n",
    "\n",
    "#trLD = DD.ConcatDataset([trLD, valLD])\n",
    "\n",
    "input_dim = trSet.n_dim\n",
    "\n",
    "num_class = 10"
   ]
  },
  {
   "cell_type": "code",
   "execution_count": 3,
   "metadata": {},
   "outputs": [
    {
     "name": "stdout",
     "output_type": "stream",
     "text": [
      "40\n"
     ]
    }
   ],
   "source": [
    "print(len(trLD))"
   ]
  },
  {
   "cell_type": "code",
   "execution_count": 4,
   "metadata": {},
   "outputs": [],
   "source": [
    "class Flatten(nn.Module):\n",
    "    def forward(self, x):\n",
    "        N, C, H, W = x.size() # read in N, C, H, W\n",
    "        return x.view(N, -1)"
   ]
  },
  {
   "cell_type": "markdown",
   "metadata": {},
   "source": [
    "## Model\n",
    "Pytorch has implemented different types of recurrent layers for you. For this homework, you can use any type of RNNs as you want:\n",
    "> torch.nn.RNN()\n",
    "\n",
    "> torch.nn.LSTM()\n",
    "\n",
    "> torch.nn.GRU()\n",
    "\n",
    "You can check details for different types of recurrent layers here: [RNN](http://pytorch.org/docs/master/nn.html#torch.nn.RNN), [LSTM]( http://pytorch.org/docs/master/nn.html#torch.nn.LSTM), [GRU](http://pytorch.org/docs/master/nn.html#torch.nn.GRU)\n",
    "\n",
    "\n",
    "### Implement a specific model\n",
    "In this section, you need to implement a model for sequence classification. The model has following layers:\n",
    "* 1 Layer LSTM layer with hidden size of 100, and input size of 75\n",
    "* A linear layer that goes from 100 to num_class (10). \n",
    "\n",
    "An LSTM layer takes an input of size of (batch_size, seq_len, fea_dim) and outputs a variable of shape (batch_size, seq_len, hidden_size). In this homework, the classification score for a sequence is the classification score for the last step of rnn_outputs.\n",
    "\n"
   ]
  },
  {
   "cell_type": "markdown",
   "metadata": {},
   "source": [
    "## Train the model\n",
    "After you have the dataloader and model, you can start training the model. Define a SGD optimizer with learning rate of 1e-2, and a cross-entropy loss function:"
   ]
  },
  {
   "cell_type": "code",
   "execution_count": 201,
   "metadata": {},
   "outputs": [],
   "source": [
    "# sequence classification model\n",
    "class SequenceClassify(nn.Module):\n",
    "    def __init__(self):\n",
    "        super(SequenceClassify, self).__init__()\n",
    "        \n",
    "        ############## 1st To Do (20 points) ##############\n",
    "        ###################################################\n",
    "        self.recurrent_layer = nn.LSTM(75, 100, 2)\n",
    "        self.project_layer = nn.Linear(100, num_class)\n",
    "        ###################################################\n",
    "    \n",
    "    # the size of input is [batch_size, seq_len(15), input_dim(75)]\n",
    "    # the size of logits is [batch_size, num_class]\n",
    "    def forward(self, input, h_t_1=None, c_t_1=None):\n",
    "        # the size of rnn_outputs is [batch_size, seq_len, rnn_size]\n",
    "        rnn_outputs, (hn, cn) = self.recurrent_layer(input)\n",
    "        \n",
    "        # classify the last step of rnn_outpus\n",
    "        # the size of logits is [batch_size, num_class]\n",
    "        logits = self.project_layer(rnn_outputs[:,-1])\n",
    "        return logits\n",
    "\n",
    "model = SequenceClassify()"
   ]
  },
  {
   "cell_type": "code",
   "execution_count": 202,
   "metadata": {},
   "outputs": [],
   "source": [
    "################ 2nd To Do  (5 points)##################\n",
    "optimizer = torch.optim.SGD(model.parameters(), lr = 1e-2)\n",
    "criterion = nn.CrossEntropyLoss()\n",
    "global val_loss, val_accuracy, train_loss, train_accuracy\n",
    "val_loss = []\n",
    "val_accuracy = []\n",
    "train_loss = []\n",
    "train_accuracy = []"
   ]
  },
  {
   "cell_type": "code",
   "execution_count": 204,
   "metadata": {},
   "outputs": [
    {
     "name": "stdout",
     "output_type": "stream",
     "text": [
      "train Epoch: 0  , Loss: 2.3041,  Accuracy: 9.95\n",
      "val Epoch: 0  , Loss: 2.3045,  Accuracy: 9.38\n"
     ]
    }
   ],
   "source": [
    "# run the model for one epoch\n",
    "# can be used for both training or validation model\n",
    "\n",
    "\n",
    "def run_epoch(data_loader, model, criterion, epoch, is_training, optimizer=None):\n",
    "    if is_training:\n",
    "        model.train()\n",
    "        logger_prefix = 'train'\n",
    "    else:\n",
    "        model.eval()\n",
    "        logger_prefix = 'val'\n",
    "\n",
    "    confusion_matrix = tnt.meter.ConfusionMeter(num_class)\n",
    "    acc = tnt.meter.ClassErrorMeter(accuracy=True)\n",
    "    meter_loss = tnt.meter.AverageValueMeter()\n",
    "\n",
    "    for batch_idx, sample in enumerate(data_loader):\n",
    "        sequence = sample['seq']\n",
    "        label = sample['label']\n",
    "        input_sequence_var = Variable(sequence).type(FloatTensor)\n",
    "        input_label_var = Variable(label).type(LongTensor)\n",
    "        \n",
    "\n",
    "        # compute output\n",
    "        # output_logits: [batch_size, num_class]\n",
    "        output_logits = model(input_sequence_var)\n",
    "        loss = criterion(output_logits, input_label_var)\n",
    "\n",
    "        if is_training:\n",
    "            optimizer.zero_grad()\n",
    "            loss.backward()\n",
    "            optimizer.step()\n",
    "\n",
    "        meter_loss.add(loss.data[0])\n",
    "        acc.add(output_logits.data, input_label_var.data)\n",
    "        confusion_matrix.add(output_logits.data, input_label_var.data)\n",
    "        \n",
    "    global max_accu, val_loss, val_accuracy, train_loss, train_accuracy\n",
    "    \n",
    "    print('%s Epoch: %d  , Loss: %.4f,  Accuracy: %.2f'%(logger_prefix, epoch, meter_loss.value()[0], acc.value()[0]))\n",
    "    if logger_prefix == 'val':\n",
    "        val_loss.append(meter_loss.value()[0])\n",
    "        val_accuracy.append(acc.value()[0])\n",
    "    else:\n",
    "        train_loss.append(meter_loss.value()[0])\n",
    "        train_accuracy.append(acc.value()[0])\n",
    "    \n",
    "            \n",
    "    return acc.value()[0]\n",
    "\n",
    "num_epochs = 1\n",
    "evaluate_every_epoch = 1\n",
    "for e in range(num_epochs):\n",
    "    run_epoch(trLD, model, criterion, e, True, optimizer)\n",
    "    if e % evaluate_every_epoch == 0:\n",
    "        run_epoch(valLD, model, criterion, e, False, None)   \n"
   ]
  },
  {
   "cell_type": "markdown",
   "metadata": {},
   "source": [
    "Conv2D -> maxPool2d -> LeakyRelu -> BatchNorm2d -> inception -> conv2d -> maxPool2d -> leakyrely -> batchnorm2d -> inception -> flatten -> linear"
   ]
  },
  {
   "cell_type": "code",
   "execution_count": 176,
   "metadata": {},
   "outputs": [
    {
     "data": {
      "text/plain": [
       "\"model = nn.Sequential()\\nmodel.add(LSTM(256, input_shape=(75, 1), activation='relu'))\\nmodel.add(Dropout(0.02))\\nmodel.add(Dense(2, activation='sigmoid'))\\nmodel.compile(loss='Cross_Entropy', optimizer='adam', metrics=['accuracy'])\""
      ]
     },
     "execution_count": 176,
     "metadata": {},
     "output_type": "execute_result"
    }
   ],
   "source": [
    "# sequence classification model\n",
    "import torchvision.models.inception as inception\n",
    "class SequenceClassify(nn.Module):\n",
    "    def __init__(self):\n",
    "        super(SequenceClassify, self).__init__()\n",
    "        \n",
    "        ############## 1st To Do (20 points) ##############\n",
    "        ###################################################\n",
    "\n",
    "        self.convolution = nn.Sequential(\n",
    "            nn.Conv2d(1, 250, kernel_size = (3, 5), stride = 1),\n",
    "            nn.MaxPool2d(2, stride = 2),\n",
    "            nn.LeakyReLU(negative_slope = 0.4),\n",
    "            nn.BatchNorm2d(250),\n",
    "            inception.InceptionA(250, 150),\n",
    "            nn.Conv2d(374, 150, stride = 1, kernel_size = 2),\n",
    "            nn.MaxPool2d(kernel_size = 2),\n",
    "            nn.LeakyReLU(negative_slope=0.3),\n",
    "            nn.BatchNorm2d(150),\n",
    "            \n",
    "            inception.InceptionA(150, 20),\n",
    "#             nn.Conv2d(150, 100, kernel_size = (2, 1), stride = 1),\n",
    "#             nn.LeakyReLU(negative_slope= 0.4),\n",
    "#             nn.BatchNorm1d(100),\n",
    "#             nn.MaxPool2d(kernel_size = 2, stride= 1),\n",
    "            Flatten(),\n",
    "            nn.Linear(8296, 100)\n",
    "        )\n",
    "        self.recurrent_layer = nn.LSTM(100, 50, 1)\n",
    "        self.project_layer = nn.Linear(50, 10)\n",
    "        ###################################################\n",
    "    \n",
    "    # the size of input is [batch_size, seq_len(15), input_dim(75)]\n",
    "    # the size of logits is [batch_size, num_class]\n",
    "    def forward(self, input1, h_t_1=None, c_t_1=None):\n",
    "        # the size of rnn_outputs is [batch_size, seq_len, rnn_size]\n",
    "        convolution_input = input1.view(100, 1, 15, 75)\n",
    "        convolution_output = self.convolution(convolution_input)\n",
    "        lstm_input = convolution_output.view(100, 1, 100)\n",
    "        rnn_outputs, (hn, cn) = self.recurrent_layer(lstm_input)        \n",
    "        # classify the last step of rnn_outpus\n",
    "        # the size of logits is [batch_size, num_class]\n",
    "        logits = self.project_layer(rnn_outputs[:,-1])\n",
    "        return logits\n",
    "    \n",
    "    \n",
    "\n",
    "\n",
    "\n",
    "model = SequenceClassify()\n",
    "\n",
    "\"\"\"model = nn.Sequential()\n",
    "model.add(LSTM(256, input_shape=(75, 1), activation='relu'))\n",
    "model.add(Dropout(0.02))\n",
    "model.add(Dense(2, activation='sigmoid'))\n",
    "model.compile(loss='Cross_Entropy', optimizer='adam', metrics=['accuracy'])\"\"\""
   ]
  },
  {
   "cell_type": "code",
   "execution_count": 177,
   "metadata": {},
   "outputs": [],
   "source": [
    "################ 2nd To Do  (5 points)##################\n",
    "# optimizer = torch.optim.SGD(model.parameters(), lr = 1e-3)\n",
    "optimizer = torch.optim.Adadelta(model.parameters(), lr = 1e-1)\n",
    "# optimizer = torch.optim.Adam(model.parameters(), lr=0.01)\n",
    "criterion = nn.CrossEntropyLoss()\n"
   ]
  },
  {
   "cell_type": "code",
   "execution_count": 179,
   "metadata": {
    "scrolled": true
   },
   "outputs": [
    {
     "name": "stdout",
     "output_type": "stream",
     "text": [
      "train Epoch: 0  , Loss: 2.1440,  Accuracy: 23.72\n",
      "val Epoch: 0  , Loss: 2.1733,  Accuracy: 20.25\n",
      "train Epoch: 1  , Loss: 1.6642,  Accuracy: 50.05\n",
      "val Epoch: 1  , Loss: 1.3901,  Accuracy: 59.88\n",
      "train Epoch: 2  , Loss: 1.2341,  Accuracy: 65.38\n",
      "val Epoch: 2  , Loss: 1.0593,  Accuracy: 69.88\n",
      "train Epoch: 3  , Loss: 0.9725,  Accuracy: 72.15\n",
      "val Epoch: 3  , Loss: 0.8932,  Accuracy: 73.88\n",
      "train Epoch: 4  , Loss: 0.8133,  Accuracy: 76.28\n",
      "val Epoch: 4  , Loss: 0.8001,  Accuracy: 75.38\n",
      "train Epoch: 5  , Loss: 0.7058,  Accuracy: 79.80\n",
      "val Epoch: 5  , Loss: 0.7534,  Accuracy: 76.75\n",
      "train Epoch: 6  , Loss: 0.6203,  Accuracy: 82.53\n",
      "val Epoch: 6  , Loss: 0.6688,  Accuracy: 78.25\n",
      "train Epoch: 7  , Loss: 0.5513,  Accuracy: 84.17\n",
      "val Epoch: 7  , Loss: 0.6119,  Accuracy: 80.62\n",
      "train Epoch: 8  , Loss: 0.4890,  Accuracy: 86.62\n",
      "val Epoch: 8  , Loss: 0.5912,  Accuracy: 81.25\n",
      "train Epoch: 9  , Loss: 0.4295,  Accuracy: 88.98\n",
      "val Epoch: 9  , Loss: 0.5655,  Accuracy: 82.00\n",
      "train Epoch: 10  , Loss: 0.3789,  Accuracy: 90.20\n",
      "val Epoch: 10  , Loss: 0.5306,  Accuracy: 83.00\n",
      "train Epoch: 11  , Loss: 0.3363,  Accuracy: 91.85\n",
      "val Epoch: 11  , Loss: 0.4905,  Accuracy: 84.50\n",
      "train Epoch: 12  , Loss: 0.2939,  Accuracy: 92.80\n",
      "val Epoch: 12  , Loss: 0.4821,  Accuracy: 84.88\n",
      "train Epoch: 13  , Loss: 0.2399,  Accuracy: 94.77\n",
      "val Epoch: 13  , Loss: 0.4988,  Accuracy: 84.12\n",
      "train Epoch: 14  , Loss: 0.2199,  Accuracy: 94.88\n",
      "val Epoch: 14  , Loss: 0.4417,  Accuracy: 86.62\n",
      "86.625_0.441693529487\n",
      "train Epoch: 15  , Loss: 0.1906,  Accuracy: 95.85\n",
      "val Epoch: 15  , Loss: 0.4499,  Accuracy: 84.88\n",
      "train Epoch: 16  , Loss: 0.1556,  Accuracy: 97.08\n",
      "val Epoch: 16  , Loss: 0.4561,  Accuracy: 85.75\n",
      "train Epoch: 17  , Loss: 0.1520,  Accuracy: 96.67\n",
      "val Epoch: 17  , Loss: 0.4637,  Accuracy: 84.25\n",
      "train Epoch: 18  , Loss: 0.1237,  Accuracy: 97.67\n",
      "val Epoch: 18  , Loss: 0.4804,  Accuracy: 85.38\n",
      "train Epoch: 19  , Loss: 0.1042,  Accuracy: 98.12\n",
      "val Epoch: 19  , Loss: 0.4443,  Accuracy: 87.12\n",
      "87.125_0.444309465587\n",
      "train Epoch: 20  , Loss: 0.0788,  Accuracy: 98.83\n",
      "val Epoch: 20  , Loss: 0.4421,  Accuracy: 86.38\n",
      "train Epoch: 21  , Loss: 0.0780,  Accuracy: 98.52\n",
      "val Epoch: 21  , Loss: 0.4935,  Accuracy: 85.38\n",
      "train Epoch: 22  , Loss: 0.0809,  Accuracy: 98.35\n",
      "val Epoch: 22  , Loss: 0.5347,  Accuracy: 83.38\n",
      "train Epoch: 23  , Loss: 0.0453,  Accuracy: 99.52\n",
      "val Epoch: 23  , Loss: 0.5324,  Accuracy: 84.88\n",
      "train Epoch: 24  , Loss: 0.0464,  Accuracy: 99.33\n",
      "val Epoch: 24  , Loss: 0.4856,  Accuracy: 85.75\n",
      "train Epoch: 25  , Loss: 0.0246,  Accuracy: 99.92\n",
      "val Epoch: 25  , Loss: 0.4878,  Accuracy: 86.50\n",
      "train Epoch: 26  , Loss: 0.0535,  Accuracy: 98.80\n",
      "val Epoch: 26  , Loss: 0.5391,  Accuracy: 84.00\n",
      "train Epoch: 27  , Loss: 0.0439,  Accuracy: 99.28\n",
      "val Epoch: 27  , Loss: 0.5311,  Accuracy: 85.62\n",
      "train Epoch: 28  , Loss: 0.0432,  Accuracy: 99.17\n",
      "val Epoch: 28  , Loss: 0.5950,  Accuracy: 83.75\n",
      "train Epoch: 29  , Loss: 0.0481,  Accuracy: 98.90\n",
      "val Epoch: 29  , Loss: 0.5262,  Accuracy: 85.62\n",
      "train Epoch: 30  , Loss: 0.0378,  Accuracy: 99.28\n",
      "val Epoch: 30  , Loss: 0.5309,  Accuracy: 85.75\n",
      "train Epoch: 31  , Loss: 0.0172,  Accuracy: 99.88\n",
      "val Epoch: 31  , Loss: 0.5044,  Accuracy: 87.38\n",
      "87.375_0.504404272884\n",
      "train Epoch: 32  , Loss: 0.0111,  Accuracy: 100.00\n",
      "val Epoch: 32  , Loss: 0.4993,  Accuracy: 86.75\n",
      "train Epoch: 33  , Loss: 0.0321,  Accuracy: 99.42\n",
      "val Epoch: 33  , Loss: 0.5290,  Accuracy: 86.38\n",
      "train Epoch: 34  , Loss: 0.0158,  Accuracy: 99.85\n",
      "val Epoch: 34  , Loss: 0.5401,  Accuracy: 86.38\n",
      "train Epoch: 35  , Loss: 0.0102,  Accuracy: 99.98\n",
      "val Epoch: 35  , Loss: 0.5406,  Accuracy: 86.00\n",
      "train Epoch: 36  , Loss: 0.0077,  Accuracy: 100.00\n",
      "val Epoch: 36  , Loss: 0.5394,  Accuracy: 86.50\n",
      "train Epoch: 37  , Loss: 0.0067,  Accuracy: 100.00\n",
      "val Epoch: 37  , Loss: 0.5379,  Accuracy: 86.50\n",
      "train Epoch: 38  , Loss: 0.0061,  Accuracy: 100.00\n",
      "val Epoch: 38  , Loss: 0.5400,  Accuracy: 86.62\n",
      "train Epoch: 39  , Loss: 0.0057,  Accuracy: 100.00\n",
      "val Epoch: 39  , Loss: 0.5421,  Accuracy: 87.12\n",
      "train Epoch: 40  , Loss: 0.0053,  Accuracy: 100.00\n",
      "val Epoch: 40  , Loss: 0.5439,  Accuracy: 87.00\n",
      "train Epoch: 41  , Loss: 0.0050,  Accuracy: 100.00\n",
      "val Epoch: 41  , Loss: 0.5462,  Accuracy: 87.12\n",
      "train Epoch: 42  , Loss: 0.0047,  Accuracy: 100.00\n",
      "val Epoch: 42  , Loss: 0.5470,  Accuracy: 87.00\n",
      "train Epoch: 43  , Loss: 0.0045,  Accuracy: 100.00\n",
      "val Epoch: 43  , Loss: 0.5484,  Accuracy: 87.12\n",
      "train Epoch: 44  , Loss: 0.0043,  Accuracy: 100.00\n",
      "val Epoch: 44  , Loss: 0.5503,  Accuracy: 87.38\n",
      "train Epoch: 45  , Loss: 0.0041,  Accuracy: 100.00\n",
      "val Epoch: 45  , Loss: 0.5513,  Accuracy: 87.38\n",
      "train Epoch: 46  , Loss: 0.0039,  Accuracy: 100.00\n",
      "val Epoch: 46  , Loss: 0.5526,  Accuracy: 87.25\n",
      "train Epoch: 47  , Loss: 0.0038,  Accuracy: 100.00\n",
      "val Epoch: 47  , Loss: 0.5558,  Accuracy: 87.00\n",
      "train Epoch: 48  , Loss: 0.0036,  Accuracy: 100.00\n",
      "val Epoch: 48  , Loss: 0.5572,  Accuracy: 87.00\n",
      "train Epoch: 49  , Loss: 0.0035,  Accuracy: 100.00\n",
      "val Epoch: 49  , Loss: 0.5591,  Accuracy: 87.00\n",
      "train Epoch: 50  , Loss: 0.0034,  Accuracy: 100.00\n",
      "val Epoch: 50  , Loss: 0.5605,  Accuracy: 87.00\n"
     ]
    }
   ],
   "source": [
    "# run the model for one epoch\n",
    "# can be used for both training or validation model\n",
    "\n",
    "\n",
    "def run_epoch(data_loader, model, criterion, epoch, is_training, optimizer=None):\n",
    "    if is_training:\n",
    "        model.train()\n",
    "        logger_prefix = 'train'\n",
    "    else:\n",
    "        model.eval()\n",
    "        logger_prefix = 'val'\n",
    "\n",
    "    confusion_matrix = tnt.meter.ConfusionMeter(num_class)\n",
    "    acc = tnt.meter.ClassErrorMeter(accuracy=True)\n",
    "    meter_loss = tnt.meter.AverageValueMeter()\n",
    "\n",
    "    for batch_idx, sample in enumerate(data_loader):\n",
    "        sequence = sample['seq']\n",
    "        label = sample['label']\n",
    "        input_sequence_var = Variable(sequence).type(FloatTensor)\n",
    "        input_label_var = Variable(label).type(LongTensor)\n",
    "        \n",
    "\n",
    "        # compute output\n",
    "        # output_logits: [batch_size, num_class]\n",
    "        output_logits = model(input_sequence_var)\n",
    "        loss = criterion(output_logits, input_label_var)\n",
    "\n",
    "        if is_training:\n",
    "            optimizer.zero_grad()\n",
    "            loss.backward()\n",
    "            optimizer.step()\n",
    "\n",
    "        meter_loss.add(loss.data[0])\n",
    "        acc.add(output_logits.data, input_label_var.data)\n",
    "        confusion_matrix.add(output_logits.data, input_label_var.data)\n",
    "        \n",
    "    return acc.value()[0]\n",
    "\n",
    "num_epochs = 51\n",
    "evaluate_every_epoch = 1\n",
    "for e in range(num_epochs):\n",
    "    run_epoch(trLD, model, criterion, e, True, optimizer)\n",
    "    if e % evaluate_every_epoch == 0:\n",
    "        run_epoch(valLD, model, criterion, e, False, None)   \n"
   ]
  },
  {
   "cell_type": "code",
   "execution_count": 180,
   "metadata": {},
   "outputs": [
    {
     "data": {
      "text/plain": [
       "51"
      ]
     },
     "execution_count": 180,
     "metadata": {},
     "output_type": "execute_result"
    }
   ],
   "source": [
    "len(train_loss)"
   ]
  },
  {
   "cell_type": "code",
   "execution_count": 199,
   "metadata": {},
   "outputs": [
    {
     "data": {
      "image/png": "[encoded data removed]",
      "text/plain": [
       "<matplotlib.figure.Figure at 0x7f75cbf49910>"
      ]
     },
     "metadata": {},
     "output_type": "display_data"
    }
   ],
   "source": [
    "epochs = []\n",
    "for i in range(1, 52):\n",
    "    epochs.append(i)\n",
    "import matplotlib.pyplot as plt\n",
    "%matplotlib inline\n",
    "plot1 = plt.plot(epochs, train_loss)\n",
    "plot2 = plt.plot(epochs, val_loss)\n",
    "plt.xlabel(\"Epochs\")\n",
    "plt.ylabel(\"Loss\")\n",
    "plt.title(\"Loss\")\n",
    "plt.legend([\"Training Loss\", \"Validation Loss\"], loc = 1)\n",
    "plt.show()"
   ]
  },
  {
   "cell_type": "code",
   "execution_count": 200,
   "metadata": {},
   "outputs": [
    {
     "data": {
      "image/png": "[encoded data removed]",
      "text/plain": [
       "<matplotlib.figure.Figure at 0x7f75cbf956d0>"
      ]
     },
     "metadata": {},
     "output_type": "display_data"
    }
   ],
   "source": [
    "plot3 = plt.plot(epochs, train_accuracy)\n",
    "plot4 = plt.plot(epochs, val_accuracy)\n",
    "plt.xlabel(\"Epochs\")\n",
    "plt.ylabel(\"Accuracy\")\n",
    "plt.title(\"Accuracy\")\n",
    "plt.legend([\"Training Accuracy\", \"Validation Accuracy\"], loc = 1)\n",
    "plt.show()"
   ]
  },
  {
   "cell_type": "markdown",
   "metadata": {},
   "source": [
    "## Submit your results on Kaggle\n",
    "\n",
    "### Train a better model for action recognition!\n",
    "Now it's your job to experiment with architectures, hyperparameters, loss functions, and optimizers to train a model that achieves better accuracy on the action recognition validation set.\n",
    "\n",
    "\n",
    "### Testing the model and submit on Kaggle\n",
    "Testing the model on the testing set and save the results as a .csv file. \n",
    "Please submitted the results.csv file generated by predict_on_test() to Kaggle(https://www.kaggle.com/c/cse512springhw5) to see how well your network performs on the test set. \n",
    "################ 3rd To Do  (30 points, the highest 3 entries get extra 10 points) ###############\n"
   ]
  },
  {
   "cell_type": "code",
   "execution_count": 164,
   "metadata": {},
   "outputs": [
    {
     "name": "stdout",
     "output_type": "stream",
     "text": [
      "1000\n"
     ]
    }
   ],
   "source": [
    "# Use your best model to generate results on test set.\n",
    "\n",
    "# generate csv file for test set\n",
    "def predict_on_test(model, data_loader):\n",
    "    model.eval() # Put the model in test mode (the opposite of model.train(), essentially)\n",
    "    results=open(\"results.csv\",'w')\n",
    "    count=0\n",
    "    results.write('Id'+','+'Class'+'\\n')\n",
    "    for batch_idx, sample in enumerate(data_loader):\n",
    "        sequence = sample['seq']\n",
    "        input_sequence_var = Variable(sequence).type(FloatTensor)\n",
    "        scores = model(input_sequence_var)\n",
    "        _, preds = scores.data.max(1)\n",
    "        for i in range(len(preds)):\n",
    "            results.write(str(count)+','+str(preds[i])+'\\n')\n",
    "            count+=1\n",
    "    results.close()\n",
    "    return count\n",
    "\n",
    "count = predict_on_test(model, tstLD)\n",
    "print(count)"
   ]
  },
  {
   "cell_type": "markdown",
   "metadata": {},
   "source": [
    "## Report the performance\n",
    "################ 4th To Do  (15 points)################## <br>\n",
    "Accuracy on Validation set achieved is 87%\n",
    "\n",
    "Accuracy on Training set achieved is 100%\n",
    "\n",
    "Loss on Validation set after 50th epoch is 0.5605\n",
    "\n",
    "Loss on Training set after 50th epoch is 0.0034\n",
    "### Documentation of what you did\n",
    "In this cell, you should write an explanation of what you did (network architecture, optimiziter, learning rate, epoches) and visualizations or graphs of loss/accuracy curve tin the process of training and evaluating.\n",
    "\n",
    "Network Architecture: 2 layers of Convolution Neural Network along with 2 layers of Inception, upon it a single layer of LSTM with 50 hidden states.\n",
    "\n",
    "Optimizer: Adadelta optimizer used because it reduces the learning rate dynamically with decaying rate 0.9\n",
    "\n",
    "Learning Rate: 1e-1\n",
    "Epochs used: 50\n",
    "\n",
    "### performance on Kaggle\n",
    "You should also report your Kaggle Performance here:\n",
    "Rank 2 with score 0.86900"
   ]
  },
  {
   "cell_type": "code",
   "execution_count": null,
   "metadata": {},
   "outputs": [],
   "source": []
  }
 ],
 "metadata": {
  "kernelspec": {
   "display_name": "Python 2",
   "language": "python",
   "name": "python2"
  },
  "language_info": {
   "codemirror_mode": {
    "name": "ipython",
    "version": 2
   },
   "file_extension": ".py",
   "mimetype": "text/x-python",
   "name": "python",
   "nbconvert_exporter": "python",
   "pygments_lexer": "ipython2",
   "version": "2.7.12"
  }
 },
 "nbformat": 4,
 "nbformat_minor": 2
}
